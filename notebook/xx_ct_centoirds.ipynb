{
 "cells": [
  {
   "cell_type": "code",
   "execution_count": 1,
   "id": "33d32521-126a-4012-82c2-082649519513",
   "metadata": {},
   "outputs": [],
   "source": [
    "import geopandas as gpd\n",
    "import pandas as pd\n",
    "import os\n",
    "\n",
    "os.chdir(r'/Users/sukantodas/Documents/work/ioer/files/pubdis')\n"
   ]
  },
  {
   "cell_type": "code",
   "execution_count": 2,
   "id": "8d59e2f0-8599-493d-a021-17becba1f75c",
   "metadata": {},
   "outputs": [],
   "source": [
    "ct = gpd.read_file(\"city.gpkg\")"
   ]
  },
  {
   "cell_type": "code",
   "execution_count": 3,
   "id": "7b9eed69-208b-4c39-b082-e236731ce0d9",
   "metadata": {},
   "outputs": [
    {
     "data": {
      "text/html": [
       "<div>\n",
       "<style scoped>\n",
       "    .dataframe tbody tr th:only-of-type {\n",
       "        vertical-align: middle;\n",
       "    }\n",
       "\n",
       "    .dataframe tbody tr th {\n",
       "        vertical-align: top;\n",
       "    }\n",
       "\n",
       "    .dataframe thead th {\n",
       "        text-align: right;\n",
       "    }\n",
       "</style>\n",
       "<table border=\"1\" class=\"dataframe\">\n",
       "  <thead>\n",
       "    <tr style=\"text-align: right;\">\n",
       "      <th></th>\n",
       "      <th>value-einh</th>\n",
       "      <th>Indikatorn</th>\n",
       "      <th>ags</th>\n",
       "      <th>gen</th>\n",
       "      <th>value</th>\n",
       "      <th>city</th>\n",
       "      <th>area_sqkm</th>\n",
       "      <th>geometry</th>\n",
       "    </tr>\n",
       "  </thead>\n",
       "  <tbody>\n",
       "    <tr>\n",
       "      <th>0</th>\n",
       "      <td>%</td>\n",
       "      <td>Anteil Siedlungs- und Verkehrsfläche an Gebiet...</td>\n",
       "      <td>05911000</td>\n",
       "      <td>Bochum</td>\n",
       "      <td>67.9072252739566</td>\n",
       "      <td>Bochum</td>\n",
       "      <td>144.268</td>\n",
       "      <td>MULTIPOLYGON (((383072.925 5709257.907, 382468...</td>\n",
       "    </tr>\n",
       "    <tr>\n",
       "      <th>1</th>\n",
       "      <td>%</td>\n",
       "      <td>Anteil Siedlungs- und Verkehrsfläche an Gebiet...</td>\n",
       "      <td>09663000</td>\n",
       "      <td>Würzburg</td>\n",
       "      <td>46.5050911140791</td>\n",
       "      <td>Würzburg</td>\n",
       "      <td>87.858</td>\n",
       "      <td>MULTIPOLYGON (((566294.183 5521765.284, 568425...</td>\n",
       "    </tr>\n",
       "    <tr>\n",
       "      <th>2</th>\n",
       "      <td>%</td>\n",
       "      <td>Anteil Siedlungs- und Verkehrsfläche an Gebiet...</td>\n",
       "      <td>08415061</td>\n",
       "      <td>Reutlingen</td>\n",
       "      <td>35.5379117506555</td>\n",
       "      <td>Reutlingen</td>\n",
       "      <td>85.284</td>\n",
       "      <td>MULTIPOLYGON (((518445.079 5380095.039, 518772...</td>\n",
       "    </tr>\n",
       "    <tr>\n",
       "      <th>3</th>\n",
       "      <td>%</td>\n",
       "      <td>Anteil Siedlungs- und Verkehrsfläche an Gebiet...</td>\n",
       "      <td>02000000</td>\n",
       "      <td>Hamburg</td>\n",
       "      <td>58.2160082150446</td>\n",
       "      <td>Hamburg</td>\n",
       "      <td>741.188</td>\n",
       "      <td>MULTIPOLYGON (((578557.698 5954292.377, 578746...</td>\n",
       "    </tr>\n",
       "    <tr>\n",
       "      <th>4</th>\n",
       "      <td>%</td>\n",
       "      <td>Anteil Siedlungs- und Verkehrsfläche an Gebiet...</td>\n",
       "      <td>07133006</td>\n",
       "      <td>Bad Kreuznach</td>\n",
       "      <td>32.6743874621805</td>\n",
       "      <td>Bad Kreuznach</td>\n",
       "      <td>54.090</td>\n",
       "      <td>MULTIPOLYGON (((418491.722 5525780.492, 419375...</td>\n",
       "    </tr>\n",
       "  </tbody>\n",
       "</table>\n",
       "</div>"
      ],
      "text/plain": [
       "  value-einh                                         Indikatorn       ags  \\\n",
       "0          %  Anteil Siedlungs- und Verkehrsfläche an Gebiet...  05911000   \n",
       "1          %  Anteil Siedlungs- und Verkehrsfläche an Gebiet...  09663000   \n",
       "2          %  Anteil Siedlungs- und Verkehrsfläche an Gebiet...  08415061   \n",
       "3          %  Anteil Siedlungs- und Verkehrsfläche an Gebiet...  02000000   \n",
       "4          %  Anteil Siedlungs- und Verkehrsfläche an Gebiet...  07133006   \n",
       "\n",
       "             gen             value           city  area_sqkm  \\\n",
       "0         Bochum  67.9072252739566         Bochum    144.268   \n",
       "1       Würzburg  46.5050911140791       Würzburg     87.858   \n",
       "2     Reutlingen  35.5379117506555     Reutlingen     85.284   \n",
       "3        Hamburg  58.2160082150446        Hamburg    741.188   \n",
       "4  Bad Kreuznach  32.6743874621805  Bad Kreuznach     54.090   \n",
       "\n",
       "                                            geometry  \n",
       "0  MULTIPOLYGON (((383072.925 5709257.907, 382468...  \n",
       "1  MULTIPOLYGON (((566294.183 5521765.284, 568425...  \n",
       "2  MULTIPOLYGON (((518445.079 5380095.039, 518772...  \n",
       "3  MULTIPOLYGON (((578557.698 5954292.377, 578746...  \n",
       "4  MULTIPOLYGON (((418491.722 5525780.492, 419375...  "
      ]
     },
     "execution_count": 3,
     "metadata": {},
     "output_type": "execute_result"
    }
   ],
   "source": [
    "ct.head()"
   ]
  },
  {
   "cell_type": "code",
   "execution_count": 4,
   "id": "a0395846-9f42-4352-87cf-3f0b3aabca33",
   "metadata": {},
   "outputs": [
    {
     "data": {
      "text/plain": [
       "<Axes: >"
      ]
     },
     "execution_count": 4,
     "metadata": {},
     "output_type": "execute_result"
    },
    {
     "data": {
      "image/png": "[encoded data removed]",
      "text/plain": [
       "<Figure size 640x480 with 1 Axes>"
      ]
     },
     "metadata": {},
     "output_type": "display_data"
    }
   ],
   "source": [
    "ct.plot()"
   ]
  },
  {
   "cell_type": "code",
   "execution_count": 5,
   "id": "0ddba557-8d03-4ffb-8f0d-8aa613ca3571",
   "metadata": {},
   "outputs": [],
   "source": [
    "ct[\"centroid\"] = ct[\"geometry\"].centroid"
   ]
  },
  {
   "cell_type": "code",
   "execution_count": 6,
   "id": "30857652-8a96-4b5e-8568-84be2da6ce0d",
   "metadata": {},
   "outputs": [
    {
     "data": {
      "text/html": [
       "<div>\n",
       "<style scoped>\n",
       "    .dataframe tbody tr th:only-of-type {\n",
       "        vertical-align: middle;\n",
       "    }\n",
       "\n",
       "    .dataframe tbody tr th {\n",
       "        vertical-align: top;\n",
       "    }\n",
       "\n",
       "    .dataframe thead th {\n",
       "        text-align: right;\n",
       "    }\n",
       "</style>\n",
       "<table border=\"1\" class=\"dataframe\">\n",
       "  <thead>\n",
       "    <tr style=\"text-align: right;\">\n",
       "      <th></th>\n",
       "      <th>value-einh</th>\n",
       "      <th>Indikatorn</th>\n",
       "      <th>ags</th>\n",
       "      <th>gen</th>\n",
       "      <th>value</th>\n",
       "      <th>city</th>\n",
       "      <th>area_sqkm</th>\n",
       "      <th>geometry</th>\n",
       "      <th>centroid</th>\n",
       "    </tr>\n",
       "  </thead>\n",
       "  <tbody>\n",
       "    <tr>\n",
       "      <th>0</th>\n",
       "      <td>%</td>\n",
       "      <td>Anteil Siedlungs- und Verkehrsfläche an Gebiet...</td>\n",
       "      <td>05911000</td>\n",
       "      <td>Bochum</td>\n",
       "      <td>67.9072252739566</td>\n",
       "      <td>Bochum</td>\n",
       "      <td>144.268</td>\n",
       "      <td>MULTIPOLYGON (((383072.925 5709257.907, 382468...</td>\n",
       "      <td>POINT (376722.017 5703495.949)</td>\n",
       "    </tr>\n",
       "    <tr>\n",
       "      <th>1</th>\n",
       "      <td>%</td>\n",
       "      <td>Anteil Siedlungs- und Verkehrsfläche an Gebiet...</td>\n",
       "      <td>09663000</td>\n",
       "      <td>Würzburg</td>\n",
       "      <td>46.5050911140791</td>\n",
       "      <td>Würzburg</td>\n",
       "      <td>87.858</td>\n",
       "      <td>MULTIPOLYGON (((566294.183 5521765.284, 568425...</td>\n",
       "      <td>POINT (567706.010 5515130.008)</td>\n",
       "    </tr>\n",
       "    <tr>\n",
       "      <th>2</th>\n",
       "      <td>%</td>\n",
       "      <td>Anteil Siedlungs- und Verkehrsfläche an Gebiet...</td>\n",
       "      <td>08415061</td>\n",
       "      <td>Reutlingen</td>\n",
       "      <td>35.5379117506555</td>\n",
       "      <td>Reutlingen</td>\n",
       "      <td>85.284</td>\n",
       "      <td>MULTIPOLYGON (((518445.079 5380095.039, 518772...</td>\n",
       "      <td>POINT (513956.297 5371350.534)</td>\n",
       "    </tr>\n",
       "    <tr>\n",
       "      <th>3</th>\n",
       "      <td>%</td>\n",
       "      <td>Anteil Siedlungs- und Verkehrsfläche an Gebiet...</td>\n",
       "      <td>02000000</td>\n",
       "      <td>Hamburg</td>\n",
       "      <td>58.2160082150446</td>\n",
       "      <td>Hamburg</td>\n",
       "      <td>741.188</td>\n",
       "      <td>MULTIPOLYGON (((578557.698 5954292.377, 578746...</td>\n",
       "      <td>POINT (567265.447 5933672.427)</td>\n",
       "    </tr>\n",
       "    <tr>\n",
       "      <th>4</th>\n",
       "      <td>%</td>\n",
       "      <td>Anteil Siedlungs- und Verkehrsfläche an Gebiet...</td>\n",
       "      <td>07133006</td>\n",
       "      <td>Bad Kreuznach</td>\n",
       "      <td>32.6743874621805</td>\n",
       "      <td>Bad Kreuznach</td>\n",
       "      <td>54.090</td>\n",
       "      <td>MULTIPOLYGON (((418491.722 5525780.492, 419375...</td>\n",
       "      <td>POINT (418613.008 5521166.804)</td>\n",
       "    </tr>\n",
       "  </tbody>\n",
       "</table>\n",
       "</div>"
      ],
      "text/plain": [
       "  value-einh                                         Indikatorn       ags  \\\n",
       "0          %  Anteil Siedlungs- und Verkehrsfläche an Gebiet...  05911000   \n",
       "1          %  Anteil Siedlungs- und Verkehrsfläche an Gebiet...  09663000   \n",
       "2          %  Anteil Siedlungs- und Verkehrsfläche an Gebiet...  08415061   \n",
       "3          %  Anteil Siedlungs- und Verkehrsfläche an Gebiet...  02000000   \n",
       "4          %  Anteil Siedlungs- und Verkehrsfläche an Gebiet...  07133006   \n",
       "\n",
       "             gen             value           city  area_sqkm  \\\n",
       "0         Bochum  67.9072252739566         Bochum    144.268   \n",
       "1       Würzburg  46.5050911140791       Würzburg     87.858   \n",
       "2     Reutlingen  35.5379117506555     Reutlingen     85.284   \n",
       "3        Hamburg  58.2160082150446        Hamburg    741.188   \n",
       "4  Bad Kreuznach  32.6743874621805  Bad Kreuznach     54.090   \n",
       "\n",
       "                                            geometry  \\\n",
       "0  MULTIPOLYGON (((383072.925 5709257.907, 382468...   \n",
       "1  MULTIPOLYGON (((566294.183 5521765.284, 568425...   \n",
       "2  MULTIPOLYGON (((518445.079 5380095.039, 518772...   \n",
       "3  MULTIPOLYGON (((578557.698 5954292.377, 578746...   \n",
       "4  MULTIPOLYGON (((418491.722 5525780.492, 419375...   \n",
       "\n",
       "                         centroid  \n",
       "0  POINT (376722.017 5703495.949)  \n",
       "1  POINT (567706.010 5515130.008)  \n",
       "2  POINT (513956.297 5371350.534)  \n",
       "3  POINT (567265.447 5933672.427)  \n",
       "4  POINT (418613.008 5521166.804)  "
      ]
     },
     "execution_count": 6,
     "metadata": {},
     "output_type": "execute_result"
    }
   ],
   "source": [
    "ct.head()"
   ]
  },
  {
   "cell_type": "code",
   "execution_count": 7,
   "id": "0b9c8116-8707-4729-ace4-2720aff4769a",
   "metadata": {},
   "outputs": [],
   "source": [
    "import matplotlib.pyplot as plt"
   ]
  },
  {
   "cell_type": "code",
   "execution_count": 8,
   "id": "94c3344f-7ef2-41bd-afc9-ecb98f68f50a",
   "metadata": {},
   "outputs": [
    {
     "data": {
      "image/png": "[encoded data removed]",
      "text/plain": [
       "<Figure size 640x480 with 1 Axes>"
      ]
     },
     "metadata": {},
     "output_type": "display_data"
    }
   ],
   "source": [
    "# Plot the centroids using Matplotlib\n",
    "fig, ax = plt.subplots()\n",
    "#ct.plot(ax=ax)\n",
    "ct[\"centroid\"].plot(ax=ax, marker='o', color='red', markersize=5)\n",
    "plt.show()"
   ]
  },
  {
   "cell_type": "code",
   "execution_count": 9,
   "id": "6206fcb4-ce79-44fe-8cba-eb3c6e5ab450",
   "metadata": {
    "scrolled": true
   },
   "outputs": [],
   "source": [
    "centroid_gdf = gpd.GeoDataFrame(geometry=ct[\"centroid\"])\n",
    "\n",
    "# Save the centroids as a new GeoPackage file\n",
    "centroid_gdf.to_file(\"centroids.gpkg\", driver=\"GPKG\")"
   ]
  },
  {
   "cell_type": "code",
   "execution_count": 10,
   "id": "cfc0c011-0694-4f8c-84e7-8ef221040961",
   "metadata": {},
   "outputs": [],
   "source": [
    "cn = gpd.read_file(\"centroids.gpkg\")"
   ]
  },
  {
   "cell_type": "code",
   "execution_count": 11,
   "id": "c4dea8c2-2ef2-4dd1-8ff8-6977e4d8d4a0",
   "metadata": {},
   "outputs": [
    {
     "data": {
      "text/plain": [
       "<Axes: >"
      ]
     },
     "execution_count": 11,
     "metadata": {},
     "output_type": "execute_result"
    },
    {
     "data": {
      "image/png": "[encoded data removed]",
      "text/plain": [
       "<Figure size 640x480 with 1 Axes>"
      ]
     },
     "metadata": {},
     "output_type": "display_data"
    }
   ],
   "source": [
    "cn.plot()"
   ]
  },
  {
   "cell_type": "code",
   "execution_count": 12,
   "id": "ca8370d3-d5ba-4b93-8c9b-931f9b4f2e85",
   "metadata": {},
   "outputs": [
    {
     "data": {
      "text/html": [
       "<div>\n",
       "<style scoped>\n",
       "    .dataframe tbody tr th:only-of-type {\n",
       "        vertical-align: middle;\n",
       "    }\n",
       "\n",
       "    .dataframe tbody tr th {\n",
       "        vertical-align: top;\n",
       "    }\n",
       "\n",
       "    .dataframe thead th {\n",
       "        text-align: right;\n",
       "    }\n",
       "</style>\n",
       "<table border=\"1\" class=\"dataframe\">\n",
       "  <thead>\n",
       "    <tr style=\"text-align: right;\">\n",
       "      <th></th>\n",
       "      <th>geometry</th>\n",
       "    </tr>\n",
       "  </thead>\n",
       "  <tbody>\n",
       "    <tr>\n",
       "      <th>0</th>\n",
       "      <td>POINT (376722.017 5703495.949)</td>\n",
       "    </tr>\n",
       "    <tr>\n",
       "      <th>1</th>\n",
       "      <td>POINT (567706.010 5515130.008)</td>\n",
       "    </tr>\n",
       "    <tr>\n",
       "      <th>2</th>\n",
       "      <td>POINT (513956.297 5371350.534)</td>\n",
       "    </tr>\n",
       "    <tr>\n",
       "      <th>3</th>\n",
       "      <td>POINT (567265.447 5933672.427)</td>\n",
       "    </tr>\n",
       "    <tr>\n",
       "      <th>4</th>\n",
       "      <td>POINT (418613.008 5521166.804)</td>\n",
       "    </tr>\n",
       "  </tbody>\n",
       "</table>\n",
       "</div>"
      ],
      "text/plain": [
       "                         geometry\n",
       "0  POINT (376722.017 5703495.949)\n",
       "1  POINT (567706.010 5515130.008)\n",
       "2  POINT (513956.297 5371350.534)\n",
       "3  POINT (567265.447 5933672.427)\n",
       "4  POINT (418613.008 5521166.804)"
      ]
     },
     "execution_count": 12,
     "metadata": {},
     "output_type": "execute_result"
    }
   ],
   "source": [
    "cn.head()"
   ]
  },
  {
   "cell_type": "code",
   "execution_count": 13,
   "id": "9033c68c-6c45-4b8a-8156-d7e472c4a9db",
   "metadata": {},
   "outputs": [
    {
     "name": "stderr",
     "output_type": "stream",
     "text": [
      "/Users/sukantodas/anaconda3/envs/pubdis/lib/python3.10/site-packages/IPython/core/interactiveshell.py:3466: FutureWarning: The `op` parameter is deprecated and will be removed in a future release. Please use the `predicate` parameter instead.\n",
      "  if await self.run_code(code, result, async_=asy):\n"
     ]
    }
   ],
   "source": [
    "# Perform spatial join\n",
    "spatial_join = gpd.sjoin(cn, ct, how=\"left\", op=\"intersects\")"
   ]
  },
  {
   "cell_type": "code",
   "execution_count": 14,
   "id": "1f420f38-ce79-4929-bd2e-0ce1fae132c3",
   "metadata": {},
   "outputs": [
    {
     "data": {
      "text/html": [
       "<div>\n",
       "<style scoped>\n",
       "    .dataframe tbody tr th:only-of-type {\n",
       "        vertical-align: middle;\n",
       "    }\n",
       "\n",
       "    .dataframe tbody tr th {\n",
       "        vertical-align: top;\n",
       "    }\n",
       "\n",
       "    .dataframe thead th {\n",
       "        text-align: right;\n",
       "    }\n",
       "</style>\n",
       "<table border=\"1\" class=\"dataframe\">\n",
       "  <thead>\n",
       "    <tr style=\"text-align: right;\">\n",
       "      <th></th>\n",
       "      <th>geometry</th>\n",
       "      <th>index_right</th>\n",
       "      <th>value-einh</th>\n",
       "      <th>Indikatorn</th>\n",
       "      <th>ags</th>\n",
       "      <th>gen</th>\n",
       "      <th>value</th>\n",
       "      <th>city</th>\n",
       "      <th>area_sqkm</th>\n",
       "      <th>centroid</th>\n",
       "    </tr>\n",
       "  </thead>\n",
       "  <tbody>\n",
       "    <tr>\n",
       "      <th>0</th>\n",
       "      <td>POINT (376722.017 5703495.949)</td>\n",
       "      <td>0</td>\n",
       "      <td>%</td>\n",
       "      <td>Anteil Siedlungs- und Verkehrsfläche an Gebiet...</td>\n",
       "      <td>05911000</td>\n",
       "      <td>Bochum</td>\n",
       "      <td>67.9072252739566</td>\n",
       "      <td>Bochum</td>\n",
       "      <td>144.268</td>\n",
       "      <td>POINT (376722.017 5703495.949)</td>\n",
       "    </tr>\n",
       "    <tr>\n",
       "      <th>1</th>\n",
       "      <td>POINT (567706.010 5515130.008)</td>\n",
       "      <td>1</td>\n",
       "      <td>%</td>\n",
       "      <td>Anteil Siedlungs- und Verkehrsfläche an Gebiet...</td>\n",
       "      <td>09663000</td>\n",
       "      <td>Würzburg</td>\n",
       "      <td>46.5050911140791</td>\n",
       "      <td>Würzburg</td>\n",
       "      <td>87.858</td>\n",
       "      <td>POINT (567706.010 5515130.008)</td>\n",
       "    </tr>\n",
       "    <tr>\n",
       "      <th>2</th>\n",
       "      <td>POINT (513956.297 5371350.534)</td>\n",
       "      <td>2</td>\n",
       "      <td>%</td>\n",
       "      <td>Anteil Siedlungs- und Verkehrsfläche an Gebiet...</td>\n",
       "      <td>08415061</td>\n",
       "      <td>Reutlingen</td>\n",
       "      <td>35.5379117506555</td>\n",
       "      <td>Reutlingen</td>\n",
       "      <td>85.284</td>\n",
       "      <td>POINT (513956.297 5371350.534)</td>\n",
       "    </tr>\n",
       "    <tr>\n",
       "      <th>3</th>\n",
       "      <td>POINT (567265.447 5933672.427)</td>\n",
       "      <td>3</td>\n",
       "      <td>%</td>\n",
       "      <td>Anteil Siedlungs- und Verkehrsfläche an Gebiet...</td>\n",
       "      <td>02000000</td>\n",
       "      <td>Hamburg</td>\n",
       "      <td>58.2160082150446</td>\n",
       "      <td>Hamburg</td>\n",
       "      <td>741.188</td>\n",
       "      <td>POINT (567265.447 5933672.427)</td>\n",
       "    </tr>\n",
       "    <tr>\n",
       "      <th>4</th>\n",
       "      <td>POINT (418613.008 5521166.804)</td>\n",
       "      <td>4</td>\n",
       "      <td>%</td>\n",
       "      <td>Anteil Siedlungs- und Verkehrsfläche an Gebiet...</td>\n",
       "      <td>07133006</td>\n",
       "      <td>Bad Kreuznach</td>\n",
       "      <td>32.6743874621805</td>\n",
       "      <td>Bad Kreuznach</td>\n",
       "      <td>54.090</td>\n",
       "      <td>POINT (418613.008 5521166.804)</td>\n",
       "    </tr>\n",
       "  </tbody>\n",
       "</table>\n",
       "</div>"
      ],
      "text/plain": [
       "                         geometry  index_right value-einh  \\\n",
       "0  POINT (376722.017 5703495.949)            0          %   \n",
       "1  POINT (567706.010 5515130.008)            1          %   \n",
       "2  POINT (513956.297 5371350.534)            2          %   \n",
       "3  POINT (567265.447 5933672.427)            3          %   \n",
       "4  POINT (418613.008 5521166.804)            4          %   \n",
       "\n",
       "                                          Indikatorn       ags            gen  \\\n",
       "0  Anteil Siedlungs- und Verkehrsfläche an Gebiet...  05911000         Bochum   \n",
       "1  Anteil Siedlungs- und Verkehrsfläche an Gebiet...  09663000       Würzburg   \n",
       "2  Anteil Siedlungs- und Verkehrsfläche an Gebiet...  08415061     Reutlingen   \n",
       "3  Anteil Siedlungs- und Verkehrsfläche an Gebiet...  02000000        Hamburg   \n",
       "4  Anteil Siedlungs- und Verkehrsfläche an Gebiet...  07133006  Bad Kreuznach   \n",
       "\n",
       "              value           city  area_sqkm                        centroid  \n",
       "0  67.9072252739566         Bochum    144.268  POINT (376722.017 5703495.949)  \n",
       "1  46.5050911140791       Würzburg     87.858  POINT (567706.010 5515130.008)  \n",
       "2  35.5379117506555     Reutlingen     85.284  POINT (513956.297 5371350.534)  \n",
       "3  58.2160082150446        Hamburg    741.188  POINT (567265.447 5933672.427)  \n",
       "4  32.6743874621805  Bad Kreuznach     54.090  POINT (418613.008 5521166.804)  "
      ]
     },
     "execution_count": 14,
     "metadata": {},
     "output_type": "execute_result"
    }
   ],
   "source": [
    "spatial_join.head()"
   ]
  },
  {
   "cell_type": "code",
   "execution_count": 15,
   "id": "9d35df0b-96b8-4bd2-90c0-31c92a5f39f6",
   "metadata": {},
   "outputs": [],
   "source": [
    "spatial_join = spatial_join.drop(columns=[\"value-einh\"])"
   ]
  },
  {
   "cell_type": "code",
   "execution_count": 16,
   "id": "08f0effd-e211-48f2-a889-41012f08b7d3",
   "metadata": {},
   "outputs": [
    {
     "data": {
      "text/html": [
       "<div>\n",
       "<style scoped>\n",
       "    .dataframe tbody tr th:only-of-type {\n",
       "        vertical-align: middle;\n",
       "    }\n",
       "\n",
       "    .dataframe tbody tr th {\n",
       "        vertical-align: top;\n",
       "    }\n",
       "\n",
       "    .dataframe thead th {\n",
       "        text-align: right;\n",
       "    }\n",
       "</style>\n",
       "<table border=\"1\" class=\"dataframe\">\n",
       "  <thead>\n",
       "    <tr style=\"text-align: right;\">\n",
       "      <th></th>\n",
       "      <th>geometry</th>\n",
       "      <th>index_right</th>\n",
       "      <th>Indikatorn</th>\n",
       "      <th>ags</th>\n",
       "      <th>gen</th>\n",
       "      <th>value</th>\n",
       "      <th>city</th>\n",
       "      <th>area_sqkm</th>\n",
       "      <th>centroid</th>\n",
       "    </tr>\n",
       "  </thead>\n",
       "  <tbody>\n",
       "    <tr>\n",
       "      <th>0</th>\n",
       "      <td>POINT (376722.017 5703495.949)</td>\n",
       "      <td>0</td>\n",
       "      <td>Anteil Siedlungs- und Verkehrsfläche an Gebiet...</td>\n",
       "      <td>05911000</td>\n",
       "      <td>Bochum</td>\n",
       "      <td>67.9072252739566</td>\n",
       "      <td>Bochum</td>\n",
       "      <td>144.268</td>\n",
       "      <td>POINT (376722.017 5703495.949)</td>\n",
       "    </tr>\n",
       "    <tr>\n",
       "      <th>1</th>\n",
       "      <td>POINT (567706.010 5515130.008)</td>\n",
       "      <td>1</td>\n",
       "      <td>Anteil Siedlungs- und Verkehrsfläche an Gebiet...</td>\n",
       "      <td>09663000</td>\n",
       "      <td>Würzburg</td>\n",
       "      <td>46.5050911140791</td>\n",
       "      <td>Würzburg</td>\n",
       "      <td>87.858</td>\n",
       "      <td>POINT (567706.010 5515130.008)</td>\n",
       "    </tr>\n",
       "    <tr>\n",
       "      <th>2</th>\n",
       "      <td>POINT (513956.297 5371350.534)</td>\n",
       "      <td>2</td>\n",
       "      <td>Anteil Siedlungs- und Verkehrsfläche an Gebiet...</td>\n",
       "      <td>08415061</td>\n",
       "      <td>Reutlingen</td>\n",
       "      <td>35.5379117506555</td>\n",
       "      <td>Reutlingen</td>\n",
       "      <td>85.284</td>\n",
       "      <td>POINT (513956.297 5371350.534)</td>\n",
       "    </tr>\n",
       "    <tr>\n",
       "      <th>3</th>\n",
       "      <td>POINT (567265.447 5933672.427)</td>\n",
       "      <td>3</td>\n",
       "      <td>Anteil Siedlungs- und Verkehrsfläche an Gebiet...</td>\n",
       "      <td>02000000</td>\n",
       "      <td>Hamburg</td>\n",
       "      <td>58.2160082150446</td>\n",
       "      <td>Hamburg</td>\n",
       "      <td>741.188</td>\n",
       "      <td>POINT (567265.447 5933672.427)</td>\n",
       "    </tr>\n",
       "    <tr>\n",
       "      <th>4</th>\n",
       "      <td>POINT (418613.008 5521166.804)</td>\n",
       "      <td>4</td>\n",
       "      <td>Anteil Siedlungs- und Verkehrsfläche an Gebiet...</td>\n",
       "      <td>07133006</td>\n",
       "      <td>Bad Kreuznach</td>\n",
       "      <td>32.6743874621805</td>\n",
       "      <td>Bad Kreuznach</td>\n",
       "      <td>54.090</td>\n",
       "      <td>POINT (418613.008 5521166.804)</td>\n",
       "    </tr>\n",
       "  </tbody>\n",
       "</table>\n",
       "</div>"
      ],
      "text/plain": [
       "                         geometry  index_right  \\\n",
       "0  POINT (376722.017 5703495.949)            0   \n",
       "1  POINT (567706.010 5515130.008)            1   \n",
       "2  POINT (513956.297 5371350.534)            2   \n",
       "3  POINT (567265.447 5933672.427)            3   \n",
       "4  POINT (418613.008 5521166.804)            4   \n",
       "\n",
       "                                          Indikatorn       ags            gen  \\\n",
       "0  Anteil Siedlungs- und Verkehrsfläche an Gebiet...  05911000         Bochum   \n",
       "1  Anteil Siedlungs- und Verkehrsfläche an Gebiet...  09663000       Würzburg   \n",
       "2  Anteil Siedlungs- und Verkehrsfläche an Gebiet...  08415061     Reutlingen   \n",
       "3  Anteil Siedlungs- und Verkehrsfläche an Gebiet...  02000000        Hamburg   \n",
       "4  Anteil Siedlungs- und Verkehrsfläche an Gebiet...  07133006  Bad Kreuznach   \n",
       "\n",
       "              value           city  area_sqkm                        centroid  \n",
       "0  67.9072252739566         Bochum    144.268  POINT (376722.017 5703495.949)  \n",
       "1  46.5050911140791       Würzburg     87.858  POINT (567706.010 5515130.008)  \n",
       "2  35.5379117506555     Reutlingen     85.284  POINT (513956.297 5371350.534)  \n",
       "3  58.2160082150446        Hamburg    741.188  POINT (567265.447 5933672.427)  \n",
       "4  32.6743874621805  Bad Kreuznach     54.090  POINT (418613.008 5521166.804)  "
      ]
     },
     "execution_count": 16,
     "metadata": {},
     "output_type": "execute_result"
    }
   ],
   "source": [
    "spatial_join.head()"
   ]
  },
  {
   "cell_type": "code",
   "execution_count": 17,
   "id": "57d9d7e0-f342-446e-a85c-7c87459c542d",
   "metadata": {},
   "outputs": [],
   "source": [
    "spatial_join = spatial_join.drop(columns=[\"gen\"])"
   ]
  },
  {
   "cell_type": "code",
   "execution_count": 18,
   "id": "33493e03-03f0-46e9-b518-2e160bb2d83b",
   "metadata": {},
   "outputs": [
    {
     "data": {
      "text/html": [
       "<div>\n",
       "<style scoped>\n",
       "    .dataframe tbody tr th:only-of-type {\n",
       "        vertical-align: middle;\n",
       "    }\n",
       "\n",
       "    .dataframe tbody tr th {\n",
       "        vertical-align: top;\n",
       "    }\n",
       "\n",
       "    .dataframe thead th {\n",
       "        text-align: right;\n",
       "    }\n",
       "</style>\n",
       "<table border=\"1\" class=\"dataframe\">\n",
       "  <thead>\n",
       "    <tr style=\"text-align: right;\">\n",
       "      <th></th>\n",
       "      <th>geometry</th>\n",
       "      <th>index_right</th>\n",
       "      <th>Indikatorn</th>\n",
       "      <th>ags</th>\n",
       "      <th>value</th>\n",
       "      <th>city</th>\n",
       "      <th>area_sqkm</th>\n",
       "      <th>centroid</th>\n",
       "    </tr>\n",
       "  </thead>\n",
       "  <tbody>\n",
       "    <tr>\n",
       "      <th>0</th>\n",
       "      <td>POINT (376722.017 5703495.949)</td>\n",
       "      <td>0</td>\n",
       "      <td>Anteil Siedlungs- und Verkehrsfläche an Gebiet...</td>\n",
       "      <td>05911000</td>\n",
       "      <td>67.9072252739566</td>\n",
       "      <td>Bochum</td>\n",
       "      <td>144.268</td>\n",
       "      <td>POINT (376722.017 5703495.949)</td>\n",
       "    </tr>\n",
       "    <tr>\n",
       "      <th>1</th>\n",
       "      <td>POINT (567706.010 5515130.008)</td>\n",
       "      <td>1</td>\n",
       "      <td>Anteil Siedlungs- und Verkehrsfläche an Gebiet...</td>\n",
       "      <td>09663000</td>\n",
       "      <td>46.5050911140791</td>\n",
       "      <td>Würzburg</td>\n",
       "      <td>87.858</td>\n",
       "      <td>POINT (567706.010 5515130.008)</td>\n",
       "    </tr>\n",
       "    <tr>\n",
       "      <th>2</th>\n",
       "      <td>POINT (513956.297 5371350.534)</td>\n",
       "      <td>2</td>\n",
       "      <td>Anteil Siedlungs- und Verkehrsfläche an Gebiet...</td>\n",
       "      <td>08415061</td>\n",
       "      <td>35.5379117506555</td>\n",
       "      <td>Reutlingen</td>\n",
       "      <td>85.284</td>\n",
       "      <td>POINT (513956.297 5371350.534)</td>\n",
       "    </tr>\n",
       "    <tr>\n",
       "      <th>3</th>\n",
       "      <td>POINT (567265.447 5933672.427)</td>\n",
       "      <td>3</td>\n",
       "      <td>Anteil Siedlungs- und Verkehrsfläche an Gebiet...</td>\n",
       "      <td>02000000</td>\n",
       "      <td>58.2160082150446</td>\n",
       "      <td>Hamburg</td>\n",
       "      <td>741.188</td>\n",
       "      <td>POINT (567265.447 5933672.427)</td>\n",
       "    </tr>\n",
       "    <tr>\n",
       "      <th>4</th>\n",
       "      <td>POINT (418613.008 5521166.804)</td>\n",
       "      <td>4</td>\n",
       "      <td>Anteil Siedlungs- und Verkehrsfläche an Gebiet...</td>\n",
       "      <td>07133006</td>\n",
       "      <td>32.6743874621805</td>\n",
       "      <td>Bad Kreuznach</td>\n",
       "      <td>54.090</td>\n",
       "      <td>POINT (418613.008 5521166.804)</td>\n",
       "    </tr>\n",
       "  </tbody>\n",
       "</table>\n",
       "</div>"
      ],
      "text/plain": [
       "                         geometry  index_right  \\\n",
       "0  POINT (376722.017 5703495.949)            0   \n",
       "1  POINT (567706.010 5515130.008)            1   \n",
       "2  POINT (513956.297 5371350.534)            2   \n",
       "3  POINT (567265.447 5933672.427)            3   \n",
       "4  POINT (418613.008 5521166.804)            4   \n",
       "\n",
       "                                          Indikatorn       ags  \\\n",
       "0  Anteil Siedlungs- und Verkehrsfläche an Gebiet...  05911000   \n",
       "1  Anteil Siedlungs- und Verkehrsfläche an Gebiet...  09663000   \n",
       "2  Anteil Siedlungs- und Verkehrsfläche an Gebiet...  08415061   \n",
       "3  Anteil Siedlungs- und Verkehrsfläche an Gebiet...  02000000   \n",
       "4  Anteil Siedlungs- und Verkehrsfläche an Gebiet...  07133006   \n",
       "\n",
       "              value           city  area_sqkm                        centroid  \n",
       "0  67.9072252739566         Bochum    144.268  POINT (376722.017 5703495.949)  \n",
       "1  46.5050911140791       Würzburg     87.858  POINT (567706.010 5515130.008)  \n",
       "2  35.5379117506555     Reutlingen     85.284  POINT (513956.297 5371350.534)  \n",
       "3  58.2160082150446        Hamburg    741.188  POINT (567265.447 5933672.427)  \n",
       "4  32.6743874621805  Bad Kreuznach     54.090  POINT (418613.008 5521166.804)  "
      ]
     },
     "execution_count": 18,
     "metadata": {},
     "output_type": "execute_result"
    }
   ],
   "source": [
    "spatial_join.head()"
   ]
  },
  {
   "cell_type": "code",
   "execution_count": 19,
   "id": "27dd8e5c-2446-44e0-92a8-c9a13c5cba99",
   "metadata": {},
   "outputs": [
    {
     "data": {
      "text/plain": [
       "array(['Point'], dtype=object)"
      ]
     },
     "execution_count": 19,
     "metadata": {},
     "output_type": "execute_result"
    }
   ],
   "source": [
    "spatial_join[\"geometry\"].geom_type.unique()"
   ]
  },
  {
   "cell_type": "code",
   "execution_count": 24,
   "id": "11733d26-48eb-43a6-b097-2d0a3d36968e",
   "metadata": {},
   "outputs": [],
   "source": [
    "spatial_join = spatial_join[['geometry', 'city', 'area_sqkm', 'centroid']]"
   ]
  },
  {
   "cell_type": "code",
   "execution_count": 25,
   "id": "90882156-ff34-43d6-ac12-b83a50122b55",
   "metadata": {},
   "outputs": [
    {
     "data": {
      "text/html": [
       "<div>\n",
       "<style scoped>\n",
       "    .dataframe tbody tr th:only-of-type {\n",
       "        vertical-align: middle;\n",
       "    }\n",
       "\n",
       "    .dataframe tbody tr th {\n",
       "        vertical-align: top;\n",
       "    }\n",
       "\n",
       "    .dataframe thead th {\n",
       "        text-align: right;\n",
       "    }\n",
       "</style>\n",
       "<table border=\"1\" class=\"dataframe\">\n",
       "  <thead>\n",
       "    <tr style=\"text-align: right;\">\n",
       "      <th></th>\n",
       "      <th>geometry</th>\n",
       "      <th>city</th>\n",
       "      <th>area_sqkm</th>\n",
       "      <th>centroid</th>\n",
       "    </tr>\n",
       "  </thead>\n",
       "  <tbody>\n",
       "    <tr>\n",
       "      <th>0</th>\n",
       "      <td>POINT (376722.017 5703495.949)</td>\n",
       "      <td>Bochum</td>\n",
       "      <td>144.268</td>\n",
       "      <td>POINT (376722.017 5703495.949)</td>\n",
       "    </tr>\n",
       "    <tr>\n",
       "      <th>1</th>\n",
       "      <td>POINT (567706.010 5515130.008)</td>\n",
       "      <td>Würzburg</td>\n",
       "      <td>87.858</td>\n",
       "      <td>POINT (567706.010 5515130.008)</td>\n",
       "    </tr>\n",
       "    <tr>\n",
       "      <th>2</th>\n",
       "      <td>POINT (513956.297 5371350.534)</td>\n",
       "      <td>Reutlingen</td>\n",
       "      <td>85.284</td>\n",
       "      <td>POINT (513956.297 5371350.534)</td>\n",
       "    </tr>\n",
       "    <tr>\n",
       "      <th>3</th>\n",
       "      <td>POINT (567265.447 5933672.427)</td>\n",
       "      <td>Hamburg</td>\n",
       "      <td>741.188</td>\n",
       "      <td>POINT (567265.447 5933672.427)</td>\n",
       "    </tr>\n",
       "    <tr>\n",
       "      <th>4</th>\n",
       "      <td>POINT (418613.008 5521166.804)</td>\n",
       "      <td>Bad Kreuznach</td>\n",
       "      <td>54.090</td>\n",
       "      <td>POINT (418613.008 5521166.804)</td>\n",
       "    </tr>\n",
       "  </tbody>\n",
       "</table>\n",
       "</div>"
      ],
      "text/plain": [
       "                         geometry           city  area_sqkm  \\\n",
       "0  POINT (376722.017 5703495.949)         Bochum    144.268   \n",
       "1  POINT (567706.010 5515130.008)       Würzburg     87.858   \n",
       "2  POINT (513956.297 5371350.534)     Reutlingen     85.284   \n",
       "3  POINT (567265.447 5933672.427)        Hamburg    741.188   \n",
       "4  POINT (418613.008 5521166.804)  Bad Kreuznach     54.090   \n",
       "\n",
       "                         centroid  \n",
       "0  POINT (376722.017 5703495.949)  \n",
       "1  POINT (567706.010 5515130.008)  \n",
       "2  POINT (513956.297 5371350.534)  \n",
       "3  POINT (567265.447 5933672.427)  \n",
       "4  POINT (418613.008 5521166.804)  "
      ]
     },
     "execution_count": 25,
     "metadata": {},
     "output_type": "execute_result"
    }
   ],
   "source": [
    "spatial_join.head()"
   ]
  },
  {
   "cell_type": "code",
   "execution_count": 27,
   "id": "ebc57dfb-2601-40ac-be96-7cffe8a1a48f",
   "metadata": {},
   "outputs": [
    {
     "name": "stdout",
     "output_type": "stream",
     "text": [
      "Index(['geometry', 'city', 'area_sqkm', 'centroid'], dtype='object')\n"
     ]
    }
   ],
   "source": [
    "print(spatial_join.columns)"
   ]
  },
  {
   "cell_type": "code",
   "execution_count": 31,
   "id": "6b73c14f-377f-448f-9657-2a1101a5506d",
   "metadata": {},
   "outputs": [
    {
     "data": {
      "text/html": [
       "<div>\n",
       "<style scoped>\n",
       "    .dataframe tbody tr th:only-of-type {\n",
       "        vertical-align: middle;\n",
       "    }\n",
       "\n",
       "    .dataframe tbody tr th {\n",
       "        vertical-align: top;\n",
       "    }\n",
       "\n",
       "    .dataframe thead th {\n",
       "        text-align: right;\n",
       "    }\n",
       "</style>\n",
       "<table border=\"1\" class=\"dataframe\">\n",
       "  <thead>\n",
       "    <tr style=\"text-align: right;\">\n",
       "      <th></th>\n",
       "      <th>geometry</th>\n",
       "      <th>city</th>\n",
       "      <th>area_sqkm</th>\n",
       "      <th>centroid</th>\n",
       "    </tr>\n",
       "  </thead>\n",
       "  <tbody>\n",
       "    <tr>\n",
       "      <th>0</th>\n",
       "      <td>POINT (376722.01676356036 5703495.948581486)</td>\n",
       "      <td>Bochum</td>\n",
       "      <td>144.268</td>\n",
       "      <td>POINT (376722.017 5703495.949)</td>\n",
       "    </tr>\n",
       "    <tr>\n",
       "      <th>1</th>\n",
       "      <td>POINT (567706.0095388949 5515130.008202742)</td>\n",
       "      <td>Würzburg</td>\n",
       "      <td>87.858</td>\n",
       "      <td>POINT (567706.010 5515130.008)</td>\n",
       "    </tr>\n",
       "    <tr>\n",
       "      <th>2</th>\n",
       "      <td>POINT (513956.2966414125 5371350.5336502725)</td>\n",
       "      <td>Reutlingen</td>\n",
       "      <td>85.284</td>\n",
       "      <td>POINT (513956.297 5371350.534)</td>\n",
       "    </tr>\n",
       "    <tr>\n",
       "      <th>3</th>\n",
       "      <td>POINT (567265.4471941366 5933672.427041147)</td>\n",
       "      <td>Hamburg</td>\n",
       "      <td>741.188</td>\n",
       "      <td>POINT (567265.447 5933672.427)</td>\n",
       "    </tr>\n",
       "    <tr>\n",
       "      <th>4</th>\n",
       "      <td>POINT (418613.0082846368 5521166.803975908)</td>\n",
       "      <td>Bad Kreuznach</td>\n",
       "      <td>54.090</td>\n",
       "      <td>POINT (418613.008 5521166.804)</td>\n",
       "    </tr>\n",
       "  </tbody>\n",
       "</table>\n",
       "</div>"
      ],
      "text/plain": [
       "                                       geometry           city  area_sqkm  \\\n",
       "0  POINT (376722.01676356036 5703495.948581486)         Bochum    144.268   \n",
       "1   POINT (567706.0095388949 5515130.008202742)       Würzburg     87.858   \n",
       "2  POINT (513956.2966414125 5371350.5336502725)     Reutlingen     85.284   \n",
       "3   POINT (567265.4471941366 5933672.427041147)        Hamburg    741.188   \n",
       "4   POINT (418613.0082846368 5521166.803975908)  Bad Kreuznach     54.090   \n",
       "\n",
       "                         centroid  \n",
       "0  POINT (376722.017 5703495.949)  \n",
       "1  POINT (567706.010 5515130.008)  \n",
       "2  POINT (513956.297 5371350.534)  \n",
       "3  POINT (567265.447 5933672.427)  \n",
       "4  POINT (418613.008 5521166.804)  "
      ]
     },
     "execution_count": 31,
     "metadata": {},
     "output_type": "execute_result"
    }
   ],
   "source": [
    "spatial_join.head()"
   ]
  },
  {
   "cell_type": "code",
   "execution_count": null,
   "id": "4a4f6e04-f6e6-4c6d-be60-6db662747a4e",
   "metadata": {},
   "outputs": [],
   "source": []
  }
 ],
 "metadata": {
  "kernelspec": {
   "display_name": "Python 3 (ipykernel)",
   "language": "python",
   "name": "python3"
  },
  "language_info": {
   "codemirror_mode": {
    "name": "ipython",
    "version": 3
   },
   "file_extension": ".py",
   "mimetype": "text/x-python",
   "name": "python",
   "nbconvert_exporter": "python",
   "pygments_lexer": "ipython3",
   "version": "3.10.12"
  }
 },
 "nbformat": 4,
 "nbformat_minor": 5
}
